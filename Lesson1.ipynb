{
 "cells": [
  {
   "cell_type": "markdown",
   "metadata": {},
   "source": [
    "#### Data Science Bootcamp - Lesson 1: What can data science do?\n",
    "\n",
    "**1)** For those three products, I would be curious to know first what the highest sales were for each product. After, knowing the purchase levels for each product, I am starting gear up what the feature of the new advertising campaign would look like (I’m more likely to do an advertising campaign for products that are underselling). I would break down the activity on the website and pageviews by each product to see why a product is selling the most by also studying the cost and price information of those three goods – are lower prices driving sales and are they profitable? Do consumers not care about price and worry about the quality of the product?\n",
    "\n",
    "In that trajectory, we can better understand some metrics – if consumers are not looking at a product’s page enough or are looking at product’s page long but not converting to purchases, we can boost the advertising for both of these to improve the overall visibility of these products themselves. Similarly it would lend itself to understanding whether those products are even sellable by consumer standards altogether.\n",
    "\n",
    "**2)** Within each step of the onboarding process – email/password, plan choice, and payment, we can calculate the amount of time each consumer spent signing up on two levels – one, if they actually did finish the plan and which step did they spend the most time on and two, if they did not finish the sign-up process, which step did they give up on?  For those that actually signed up versus who did not, we can see the similarities and differences between the both of them in figuring out whether that was a similar trend in both demographics or something different that aligns to other variables (demographic, mobile vs web sign up, etc.).\n",
    "\n",
    "Using also the data in regards to money spent on marketing on a weekly level, we can also see if more money spent led to a conversion in signups and whether promotional activity actually led to more signups or if there was just general difficulty in signups altogether.\n",
    "\n",
    "**3)** The sets of data we are provided with for this hotel website are session information, price, and availability. Because the existing ranking system is based on price itself, we would have to understand how the other two variables behave to propose a better ranking system. To do so, I would conduct A/B testing between both variables – how would the rankings look like based on “popularity” (session information) or “availability”? Would sales go up or down depending on this new ranking system? \n",
    "\n",
    "From the sessions themselves, you could curate the data into the demographic of that person browsing the website. Is the person from the website coming from a particular place? Does proximity have to do with anything? Also in regards to availability, you could put the hotels that are most popular near the top regardless of what’s leftover and available. This way you are pushing the most popular hotels first.\n",
    "\n",
    "**4)** To track the churn of a social network, I would want to track the overall timeline of users – in the three years of data – from inception to present day. Tracking the timeline of the users from how much time was spent throughout the life of the user would help the average time spent users ramp down from their popular use to “average” to limited use. \n",
    "\n",
    "We can also see if that correlates correctly to most users and possibly understand their social activities/profile to match those trends. By seeing how long they are on the site and tracking however long they are on it for should properly help us understand their usage rates and whether the social network is actually effective at all. Mirroring this in parallel to any events that happened in the social network’s history – special add ons, promotion, etc. – would help identify trends accordingly as well.\n",
    "\n"
   ]
  },
  {
   "cell_type": "code",
   "execution_count": null,
   "metadata": {},
   "outputs": [],
   "source": []
  }
 ],
 "metadata": {
  "kernelspec": {
   "display_name": "Python 3",
   "language": "python",
   "name": "python3"
  },
  "language_info": {
   "codemirror_mode": {
    "name": "ipython",
    "version": 3
   },
   "file_extension": ".py",
   "mimetype": "text/x-python",
   "name": "python",
   "nbconvert_exporter": "python",
   "pygments_lexer": "ipython3",
   "version": "3.7.0"
  }
 },
 "nbformat": 4,
 "nbformat_minor": 2
}
